{
  "nbformat": 4,
  "nbformat_minor": 0,
  "metadata": {
    "colab": {
      "provenance": [],
      "collapsed_sections": [],
      "authorship_tag": "ABX9TyOpW6Fvp5qxOfzfuygn5gCn",
      "include_colab_link": true
    },
    "kernelspec": {
      "name": "python3",
      "display_name": "Python 3"
    },
    "language_info": {
      "name": "python"
    }
  },
  "cells": [
    {
      "cell_type": "markdown",
      "metadata": {
        "id": "view-in-github",
        "colab_type": "text"
      },
      "source": [
        "<a href=\"https://colab.research.google.com/github/king-davi/Exercises.ipynb/blob/main/Exercises.ipynb\" target=\"_parent\"><img src=\"https://colab.research.google.com/assets/colab-badge.svg\" alt=\"Open In Colab\"/></a>"
      ]
    },
    {
      "cell_type": "code",
      "source": [],
      "metadata": {
        "id": "NS6aOPHsrQXk"
      },
      "execution_count": null,
      "outputs": []
    },
    {
      "cell_type": "code",
      "source": [
        "# Declare a variable named company and assign it to an initial value \"Coding For All\".\n",
        "# Print the variable company using print().\n",
        "Company = \"Coding for All\"\n",
        "print(Company)"
      ],
      "metadata": {
        "colab": {
          "base_uri": "https://localhost:8080/"
        },
        "id": "YQ707lrJpdCF",
        "outputId": "c9f49516-f4be-4747-dfab-46ef58bbe6b5"
      },
      "execution_count": null,
      "outputs": [
        {
          "output_type": "stream",
          "name": "stdout",
          "text": [
            "Coding for All\n"
          ]
        }
      ]
    },
    {
      "cell_type": "code",
      "source": [
        "# Print the length of the company string using len() method and print().\n",
        "len(\"company\")"
      ],
      "metadata": {
        "id": "6dVDfw_QpiHF",
        "colab": {
          "base_uri": "https://localhost:8080/"
        },
        "outputId": "2e10c52c-5afd-4b72-9b5f-5d9e0311fecc"
      },
      "execution_count": 1,
      "outputs": [
        {
          "output_type": "execute_result",
          "data": {
            "text/plain": [
              "7"
            ]
          },
          "metadata": {},
          "execution_count": 1
        }
      ]
    },
    {
      "cell_type": "code",
      "source": [
        "# Change all the characters to uppercase letters using upper() method.\n",
        "name=\"company\"\n",
        "b=name.upper()\n",
        "print(b)"
      ],
      "metadata": {
        "colab": {
          "base_uri": "https://localhost:8080/"
        },
        "id": "GYnW4dHAKh79",
        "outputId": "6bd7a859-849b-4592-a2a9-085ea63685a4"
      },
      "execution_count": 9,
      "outputs": [
        {
          "output_type": "stream",
          "name": "stdout",
          "text": [
            "COMPANY\n"
          ]
        }
      ]
    },
    {
      "cell_type": "code",
      "source": [
        "# Change all the characters to uppercase letters using upper() method.\n",
        "name=\"COMPANY\"\n",
        "b=name.lower()\n",
        "print(b)"
      ],
      "metadata": {
        "colab": {
          "base_uri": "https://localhost:8080/"
        },
        "id": "hVCdatk1N6hL",
        "outputId": "c7a600f6-4a2d-4fd6-d99c-f11290692cc3"
      },
      "execution_count": 10,
      "outputs": [
        {
          "output_type": "stream",
          "name": "stdout",
          "text": [
            "company\n"
          ]
        }
      ]
    },
    {
      "cell_type": "code",
      "source": [
        "# Use capitalize(), title(), swapcase() methods to format the value of the string Coding For All.\n",
        "name =\"coding for all\"\n",
        "str1 = name.upper()\n",
        "str2 = name.title()\n",
        "str3 = name.swapcase()\n",
        "print(str1)\n",
        "print(str2)\n",
        "print(str3)"
      ],
      "metadata": {
        "colab": {
          "base_uri": "https://localhost:8080/"
        },
        "id": "Nt0KzA0KOr4L",
        "outputId": "2be0c589-9d6c-41af-a30c-dc83cea201db"
      },
      "execution_count": 15,
      "outputs": [
        {
          "output_type": "stream",
          "name": "stdout",
          "text": [
            "CODING FOR ALL\n",
            "Coding For All\n",
            "CODING FOR ALL\n"
          ]
        }
      ]
    },
    {
      "cell_type": "code",
      "source": [
        "# Replace the word coding in the string 'Coding For All' to Python.\n",
        "base_str =\"coding for all\"\n",
        "result = base_str.replace(\"coding\",\"python\")\n",
        "print(result)"
      ],
      "metadata": {
        "colab": {
          "base_uri": "https://localhost:8080/"
        },
        "id": "JRb7N35dr7Bp",
        "outputId": "374ebaa0-cf54-4dac-897b-27250897f5d0"
      },
      "execution_count": 24,
      "outputs": [
        {
          "output_type": "stream",
          "name": "stdout",
          "text": [
            "python for all\n"
          ]
        }
      ]
    },
    {
      "cell_type": "code",
      "source": [
        "# Change Python for Everyone to Python for All using the replace method or other methods.\n",
        "base_str =\"Python for Everyone\"\n",
        "result = base_str.replace(\"Everyone\",\"All\")\n",
        "print(result)"
      ],
      "metadata": {
        "colab": {
          "base_uri": "https://localhost:8080/"
        },
        "id": "YqpkEUkrtMU2",
        "outputId": "057838d2-0d29-40c1-9260-de0e101d7ca7"
      },
      "execution_count": 36,
      "outputs": [
        {
          "output_type": "stream",
          "name": "stdout",
          "text": [
            "Python for All\n"
          ]
        }
      ]
    },
    {
      "cell_type": "code",
      "source": [
        "# What is the character at index 0 in the string Coding For All.\n",
        "The character at index 0 in \"coding for all\" is c"
      ],
      "metadata": {
        "id": "dqDMOmDVx6Zr"
      },
      "execution_count": null,
      "outputs": []
    },
    {
      "cell_type": "code",
      "source": [
        "# What is the last index of the string Coding For All.\n",
        "The last index of the string \"coding for all\" is 11"
      ],
      "metadata": {
        "id": "Wzu_oFvTsWap"
      },
      "execution_count": null,
      "outputs": []
    },
    {
      "cell_type": "code",
      "source": [
        "# What character is at index 10 in \"Coding For All\" string.\n",
        "The index 10 in \"coding for all\" is \"l\""
      ],
      "metadata": {
        "id": "tXyhEP5Isc37"
      },
      "execution_count": null,
      "outputs": []
    },
    {
      "cell_type": "code",
      "source": [
        "# Create an acronym or an abbreviation for the name 'Python For Everyone'.\n",
        "In[1]: user_input = str(input(\"enter a phrase: \"))\n",
        "text = user_input.split()\n",
        "a=\" \"\n",
        "for i in text :\n",
        "a = a+str(i[0]).upper()\n",
        "print(a) "
      ],
      "metadata": {
        "id": "hax2PFOdsf5j"
      },
      "execution_count": null,
      "outputs": []
    },
    {
      "cell_type": "code",
      "source": [
        "# Does ''Coding For All' start with a substring Coding?\n",
        "Question = \"Coding For All\"\n",
        "print(Question.find(\"Coding\"))"
      ],
      "metadata": {
        "colab": {
          "base_uri": "https://localhost:8080/"
        },
        "id": "SyfV5nzD8FYM",
        "outputId": "93bc5608-0da6-4cb7-ddba-3d657c2450d3"
      },
      "execution_count": 16,
      "outputs": [
        {
          "output_type": "stream",
          "name": "stdout",
          "text": [
            "0\n"
          ]
        }
      ]
    },
    {
      "cell_type": "code",
      "source": [
        "# Does 'Coding For All' end with a substring coding?\n",
        "Question = \"Coding For All\"\n",
        "print(Question.find(\"All\"))"
      ],
      "metadata": {
        "colab": {
          "base_uri": "https://localhost:8080/"
        },
        "id": "pLAMa7Z08JEp",
        "outputId": "e38dbbb1-7d5c-4b8e-bcf0-968b06e38565"
      },
      "execution_count": 17,
      "outputs": [
        {
          "output_type": "stream",
          "name": "stdout",
          "text": [
            "11\n"
          ]
        }
      ]
    },
    {
      "cell_type": "code",
      "source": [
        "# Coding For All      '  , remove the left and right trailing spaces in the given string."
      ],
      "metadata": {
        "id": "qShbBz7L8MkJ"
      },
      "execution_count": null,
      "outputs": []
    },
    {
      "cell_type": "code",
      "source": [
        "# Which one of the following variables return True when we use the method isidentifier():\n",
        "# 30DaysOfPython\n",
        "challenge = '30DaysOfPython'\n",
        "print(challenge.isidentifier())"
      ],
      "metadata": {
        "colab": {
          "base_uri": "https://localhost:8080/"
        },
        "id": "6_AocJf-8ckG",
        "outputId": "8fbb21f5-9818-4ad1-a862-c3ae718b0444"
      },
      "execution_count": 20,
      "outputs": [
        {
          "output_type": "stream",
          "name": "stdout",
          "text": [
            "False\n"
          ]
        }
      ]
    },
    {
      "cell_type": "code",
      "source": [
        "# Which one of the following variables return True when we use the method isidentifier()\n",
        "# thirty_days_of_python\n",
        "challenge = \"thirty_days_of_python\"\n",
        "print(challenge.isidentifier())\n"
      ],
      "metadata": {
        "colab": {
          "base_uri": "https://localhost:8080/"
        },
        "id": "9LoldmReAY4t",
        "outputId": "3f28d2f4-b195-451e-c662-94421f4276fc"
      },
      "execution_count": 21,
      "outputs": [
        {
          "output_type": "stream",
          "name": "stdout",
          "text": [
            "True\n"
          ]
        }
      ]
    }
  ]
}